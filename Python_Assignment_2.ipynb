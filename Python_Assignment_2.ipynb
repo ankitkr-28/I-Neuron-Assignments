{
 "cells": [
  {
   "cell_type": "code",
   "execution_count": 1,
   "metadata": {
    "scrolled": true
   },
   "outputs": [
    {
     "name": "stdout",
     "output_type": "stream",
     "text": [
      "*\n",
      "**\n",
      "***\n",
      "****\n",
      "*****\n",
      "****\n",
      "***\n",
      "**\n",
      "*\n"
     ]
    }
   ],
   "source": [
    "#Question1 - Star Pattern\n",
    "n=6\n",
    "for i in range(1,n):\n",
    "    for j in range(i,i+1):\n",
    "        print('*'*i)\n",
    "for i in range(n-2,0,-1):\n",
    "    for j in range(i,i-1,-1):\n",
    "        print('*'*i)"
   ]
  },
  {
   "cell_type": "code",
   "execution_count": 2,
   "metadata": {},
   "outputs": [
    {
     "name": "stdout",
     "output_type": "stream",
     "text": [
      "Enter the Value of n:9\n",
      "*\n",
      "**\n",
      "***\n",
      "****\n",
      "*****\n",
      "******\n",
      "*******\n",
      "********\n",
      "*******\n",
      "******\n",
      "*****\n",
      "****\n",
      "***\n",
      "**\n",
      "*\n"
     ]
    }
   ],
   "source": [
    "#Question1 - Star Pattern by user's input\n",
    "n=int(input('Enter the Value of n:'))\n",
    "for i in range(1,n):\n",
    "    for j in range(i,i+1):\n",
    "        print('*'*i)\n",
    "for i in range(n-2,0,-1):\n",
    "    for j in range(i,i-1,-1):\n",
    "        print('*'*i)"
   ]
  },
  {
   "cell_type": "code",
   "execution_count": 3,
   "metadata": {},
   "outputs": [
    {
     "name": "stdout",
     "output_type": "stream",
     "text": [
      "Enter the desired Word: ineuron\n",
      "Your Reverse Word is: norueni\n"
     ]
    }
   ],
   "source": [
    "#Question2 - Take input and reverse the Word\n",
    "inp = input('Enter the desired Word: ')\n",
    "print('Your Reverse Word is:',inp[::-1])"
   ]
  },
  {
   "cell_type": "code",
   "execution_count": 4,
   "metadata": {},
   "outputs": [
    {
     "name": "stdout",
     "output_type": "stream",
     "text": [
      "Enter the desired Word: ineuron\n",
      "norueni"
     ]
    }
   ],
   "source": [
    "#Question 2 - Reverse by using range \n",
    "inp1 = input('Enter the desired Word: ')\n",
    "for i in range(len(inp1)-1,-1,-1):\n",
    "    print(inp1[i],end='')"
   ]
  }
 ],
 "metadata": {
  "kernelspec": {
   "display_name": "Python 3",
   "language": "python",
   "name": "python3"
  },
  "language_info": {
   "codemirror_mode": {
    "name": "ipython",
    "version": 3
   },
   "file_extension": ".py",
   "mimetype": "text/x-python",
   "name": "python",
   "nbconvert_exporter": "python",
   "pygments_lexer": "ipython3",
   "version": "3.7.4"
  }
 },
 "nbformat": 4,
 "nbformat_minor": 2
}
