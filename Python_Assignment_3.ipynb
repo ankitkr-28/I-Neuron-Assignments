{
 "cells": [
  {
   "cell_type": "code",
   "execution_count": 1,
   "metadata": {},
   "outputs": [],
   "source": [
    "#Sample Function to Test myreduce and myfiter function\n",
    "def add_num(a,b):\n",
    "    return a+b\n",
    "def evencheck(a):\n",
    "    if a%2 == 0:\n",
    "        return True"
   ]
  },
  {
   "cell_type": "code",
   "execution_count": 2,
   "metadata": {},
   "outputs": [],
   "source": [
    "#Question 1.1 - Create reduce function\n",
    "#My Reduce Function\n",
    "def myreduce(func,lst):\n",
    "    '''My own reduce funtion\n",
    "    '''\n",
    "    x=lst[0]\n",
    "    for i in range(1,len(lst)):\n",
    "        x = func(x,lst[i])\n",
    "    return x"
   ]
  },
  {
   "cell_type": "code",
   "execution_count": 3,
   "metadata": {
    "scrolled": true
   },
   "outputs": [
    {
     "name": "stdout",
     "output_type": "stream",
     "text": [
      "31\n"
     ]
    }
   ],
   "source": [
    "a = [12,1,3,4,5,6]\n",
    "print(myreduce(add_num,a))"
   ]
  },
  {
   "cell_type": "code",
   "execution_count": 4,
   "metadata": {},
   "outputs": [
    {
     "name": "stdout",
     "output_type": "stream",
     "text": [
      "31\n"
     ]
    }
   ],
   "source": [
    "from functools import reduce\n",
    "print(reduce(add_num,a))"
   ]
  },
  {
   "cell_type": "code",
   "execution_count": 5,
   "metadata": {},
   "outputs": [],
   "source": [
    "#Question 1.2  - Create Filter Function\n",
    "#My Filter Function\n",
    "def myfilter(func,lst):\n",
    "    '''My own filter funtion\n",
    "    '''\n",
    "    for i in range(0,len(lst)):\n",
    "        y = func(lst[i])\n",
    "        if (y == True or y != None):\n",
    "            yield lst[i]\n",
    "        else:\n",
    "            continue"
   ]
  },
  {
   "cell_type": "code",
   "execution_count": 6,
   "metadata": {
    "scrolled": false
   },
   "outputs": [
    {
     "name": "stdout",
     "output_type": "stream",
     "text": [
      "<generator object myfilter at 0x000001A74FCFF7C8>\n"
     ]
    },
    {
     "data": {
      "text/plain": [
       "[12, 22, 16]"
      ]
     },
     "execution_count": 6,
     "metadata": {},
     "output_type": "execute_result"
    }
   ],
   "source": [
    "a=[12,43,23,22,16]\n",
    "a3 = myfilter(evencheck,a)\n",
    "print(a3)\n",
    "list(a3)"
   ]
  },
  {
   "cell_type": "code",
   "execution_count": 7,
   "metadata": {},
   "outputs": [
    {
     "name": "stdout",
     "output_type": "stream",
     "text": [
      "['x', 'xx', 'xxx', 'xxxx', 'y', 'yy', 'yyy', 'yyyy', 'z', 'zz', 'zzz', 'zzzz']\n"
     ]
    }
   ],
   "source": [
    "#Question 2 - List comprehension\n",
    "inp1 = 'xyz'\n",
    "out1 = [i*num for i in inp1 for num in range(1,5)]\n",
    "print(out1)"
   ]
  },
  {
   "cell_type": "code",
   "execution_count": 8,
   "metadata": {},
   "outputs": [
    {
     "name": "stdout",
     "output_type": "stream",
     "text": [
      "['x', 'y', 'z', 'xx', 'yy', 'zz', 'xxx', 'yyy', 'zzz', 'xxxx', 'yyyy', 'zzzz']\n"
     ]
    }
   ],
   "source": [
    "inp2 = 'xyz'\n",
    "out2 = [i*num for num in range(1,5) for i in inp2]\n",
    "print(out2)"
   ]
  },
  {
   "cell_type": "code",
   "execution_count": 9,
   "metadata": {},
   "outputs": [
    {
     "name": "stdout",
     "output_type": "stream",
     "text": [
      "[[2], [3], [4], [3], [4], [5], [4], [5], [6]]\n"
     ]
    }
   ],
   "source": [
    "inp3 = [2,3,4]\n",
    "out3 = [[i+num] for i in inp3 for num in range(0,3)]\n",
    "print(out3)"
   ]
  },
  {
   "cell_type": "code",
   "execution_count": 10,
   "metadata": {},
   "outputs": [
    {
     "name": "stdout",
     "output_type": "stream",
     "text": [
      "[[2, 3, 4, 5], [3, 4, 5, 6], [4, 5, 6, 7], [5, 6, 7, 8]]\n"
     ]
    }
   ],
   "source": [
    "inp4 = [2,3,4,5]\n",
    "out4 = [[i+num for i in inp4] for num in range(0,4)]\n",
    "print(out4)"
   ]
  },
  {
   "cell_type": "code",
   "execution_count": 11,
   "metadata": {
    "scrolled": true
   },
   "outputs": [
    {
     "name": "stdout",
     "output_type": "stream",
     "text": [
      "[[2, 3, 4, 5], [3, 4, 5, 6], [4, 5, 6, 7], [5, 6, 7, 8]]\n"
     ]
    }
   ],
   "source": [
    "inp5 = [1,2,3]\n",
    "out5 = [(num,i) for i in inp4 for num in range(1,4)]\n",
    "print(out4)"
   ]
  },
  {
   "cell_type": "code",
   "execution_count": null,
   "metadata": {},
   "outputs": [],
   "source": []
  }
 ],
 "metadata": {
  "kernelspec": {
   "display_name": "Python 3",
   "language": "python",
   "name": "python3"
  },
  "language_info": {
   "codemirror_mode": {
    "name": "ipython",
    "version": 3
   },
   "file_extension": ".py",
   "mimetype": "text/x-python",
   "name": "python",
   "nbconvert_exporter": "python",
   "pygments_lexer": "ipython3",
   "version": "3.7.4"
  }
 },
 "nbformat": 4,
 "nbformat_minor": 2
}
