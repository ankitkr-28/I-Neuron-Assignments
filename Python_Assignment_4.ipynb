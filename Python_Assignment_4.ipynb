{
 "cells": [
  {
   "cell_type": "code",
   "execution_count": 1,
   "metadata": {},
   "outputs": [],
   "source": [
    "#1.1 - Area of Triangle using Class\n",
    "class Triangle():\n",
    "    def get_user_inp(self):\n",
    "        while True:\n",
    "            try:\n",
    "                self.s1 = float(input(\"Enter the length of 1st side: \"))\n",
    "                self.s2 = float(input(\"Enter the length of 2st side: \"))\n",
    "                self.s3 = float(input(\"Enter the length of 3st side: \"))\n",
    "                break\n",
    "            except :\n",
    "                print('Please enter a valid length')"
   ]
  },
  {
   "cell_type": "code",
   "execution_count": 2,
   "metadata": {},
   "outputs": [],
   "source": [
    "class AreaT(Triangle):  \n",
    "    def findarea(self):\n",
    "        a,b,c = self.s1,self.s2,self.s3\n",
    "        s = (a + b + c)/2\n",
    "        area=(s*(s-a)*(s-b)*(s-c))**0.5\n",
    "        print('The area of the triangle is %0.2f' %area)"
   ]
  },
  {
   "cell_type": "code",
   "execution_count": 3,
   "metadata": {},
   "outputs": [
    {
     "name": "stdout",
     "output_type": "stream",
     "text": [
      "Enter the length of 1st side: 10\n",
      "Enter the length of 2st side: 10\n",
      "Enter the length of 3st side: 10\n",
      "The area of the triangle is 43.30\n"
     ]
    }
   ],
   "source": [
    "A = AreaT()\n",
    "A.get_user_inp()\n",
    "A.findarea()"
   ]
  },
  {
   "cell_type": "code",
   "execution_count": 4,
   "metadata": {},
   "outputs": [],
   "source": [
    "#1.2 - Write a function filter_long_words()\n",
    "def filter_long_words(lst,n):\n",
    "    x=[]\n",
    "    for i in lst:\n",
    "        if len(i) > n:\n",
    "            x.append(i)\n",
    "    return x"
   ]
  },
  {
   "cell_type": "code",
   "execution_count": 5,
   "metadata": {
    "scrolled": true
   },
   "outputs": [
    {
     "data": {
      "text/plain": [
       "['jjkjk', 'kkjkj', 'dfdf']"
      ]
     },
     "execution_count": 5,
     "metadata": {},
     "output_type": "execute_result"
    }
   ],
   "source": [
    "filter_long_words(['aaa','jjkjk','kkjkj','dfdf'],3)"
   ]
  },
  {
   "cell_type": "code",
   "execution_count": 6,
   "metadata": {},
   "outputs": [],
   "source": [
    "#2.1 - mapping list of integer into length of corresponding word\n",
    "def lenlist(a):\n",
    "    y=[]\n",
    "    for i in a:\n",
    "        y.append(len(i))\n",
    "    return y"
   ]
  },
  {
   "cell_type": "code",
   "execution_count": 7,
   "metadata": {
    "scrolled": true
   },
   "outputs": [
    {
     "data": {
      "text/plain": [
       "[4, 5, 4, 6]"
      ]
     },
     "execution_count": 7,
     "metadata": {},
     "output_type": "execute_result"
    }
   ],
   "source": [
    "lenlist(['assa','sdsds','huhu','fdsfaj'])"
   ]
  },
  {
   "cell_type": "code",
   "execution_count": 8,
   "metadata": {},
   "outputs": [],
   "source": [
    "#2.2 - Check string is Vowel or not\n",
    "def vowel(char):\n",
    "    if len(char) == 1:\n",
    "        if char.lower() in ['a','e','i','o','u']:\n",
    "            return True\n",
    "        else:\n",
    "            return False\n",
    "    else:\n",
    "        return ('We are expecting string of length 1')"
   ]
  },
  {
   "cell_type": "code",
   "execution_count": 9,
   "metadata": {},
   "outputs": [
    {
     "name": "stdout",
     "output_type": "stream",
     "text": [
      "False\n",
      "True\n",
      "We are expecting string of length 1\n"
     ]
    }
   ],
   "source": [
    "print(vowel('c'))\n",
    "print(vowel('a'))\n",
    "print(vowel('asb'))"
   ]
  },
  {
   "cell_type": "code",
   "execution_count": null,
   "metadata": {},
   "outputs": [],
   "source": []
  }
 ],
 "metadata": {
  "kernelspec": {
   "display_name": "Python 3",
   "language": "python",
   "name": "python3"
  },
  "language_info": {
   "codemirror_mode": {
    "name": "ipython",
    "version": 3
   },
   "file_extension": ".py",
   "mimetype": "text/x-python",
   "name": "python",
   "nbconvert_exporter": "python",
   "pygments_lexer": "ipython3",
   "version": "3.7.4"
  }
 },
 "nbformat": 4,
 "nbformat_minor": 2
}
