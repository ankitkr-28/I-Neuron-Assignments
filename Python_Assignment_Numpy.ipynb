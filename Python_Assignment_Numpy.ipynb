{
 "cells": [
  {
   "cell_type": "code",
   "execution_count": 1,
   "metadata": {},
   "outputs": [],
   "source": [
    "import numpy as np\n",
    "import pandas as pd"
   ]
  },
  {
   "cell_type": "markdown",
   "metadata": {},
   "source": [
    "### Creating a Vander matix function"
   ]
  },
  {
   "cell_type": "code",
   "execution_count": 2,
   "metadata": {},
   "outputs": [],
   "source": [
    "def vander_func(arr,n=None,increasing=False):\n",
    "    arr = np.asarray(arr)\n",
    "    if arr.ndim != 1:\n",
    "        raise ValueError(\"Please enter a one-dimensional array or sequence\")\n",
    "    elif len(arr) == 0:\n",
    "        raise ValueError(\"Empty array\")\n",
    "    else:\n",
    "        if n is None:\n",
    "            n=len(arr)\n",
    "            if not increasing:\n",
    "                mat_out = np.array([x**(n-1-i) for x in arr for i in range(n)]).reshape(len(arr),n)\n",
    "            else:\n",
    "                mat_out = np.array([x**i for x in arr for i in range(n)]).reshape(len(arr),n)\n",
    "        else:\n",
    "            if not increasing:\n",
    "                mat_out = np.array([x**(n-1-i) for x in arr for i in range(n)]).reshape(len(arr),n)\n",
    "            else:\n",
    "                mat_out = np.array([x**i for x in arr for i in range(n)]).reshape(len(arr),n)\n",
    "    return mat_out"
   ]
  },
  {
   "cell_type": "code",
   "execution_count": 3,
   "metadata": {
    "scrolled": true
   },
   "outputs": [
    {
     "data": {
      "text/plain": [
       "array([[  1,   1,   1,   1,   1],\n",
       "       [  1,   2,   4,   8,  16],\n",
       "       [  1,   3,   9,  27,  81],\n",
       "       [  1,   4,  16,  64, 256]])"
      ]
     },
     "execution_count": 3,
     "metadata": {},
     "output_type": "execute_result"
    }
   ],
   "source": [
    "# Input with values of n and increasing True\n",
    "vander_func([1,2,3,4],increasing=True,n=5)"
   ]
  },
  {
   "cell_type": "code",
   "execution_count": 4,
   "metadata": {},
   "outputs": [
    {
     "data": {
      "text/plain": [
       "array([[ 1,  1,  1,  1],\n",
       "       [ 8,  4,  2,  1],\n",
       "       [27,  9,  3,  1],\n",
       "       [64, 16,  4,  1]])"
      ]
     },
     "execution_count": 4,
     "metadata": {},
     "output_type": "execute_result"
    }
   ],
   "source": [
    "# Input without n and increasing\n",
    "vander_func([1,2,3,4])"
   ]
  },
  {
   "cell_type": "markdown",
   "metadata": {},
   "source": [
    "### Problem\n",
    "Given a sequence of n values x1, x2, ..., xn and a window size k>0, the k-th moving average of the given sequence is defined as follows:                                                                                                                       \n",
    "The moving average sequence has n-k+1 elements as shown below.The moving averages with k=4 of a ten-value sequence (n=10) is shown below.                                                                                                                   \n",
    "i 1 2 3 4 5 6 7 8 9 10                                                                                                         \n",
    "===== == == == == == == == == == ==                                                                                            \n",
    "Input 10 20 30 40 50 60 70 80 90 100                                                                                           \n",
    "y1 25 = (10+20+30+40)/4                                                                                                       \n",
    "y2 35 = (20+30+40+50)/4                                                                                                        \n",
    "y3 45 = (30+40+50+60)/4                                                                                                        \n",
    "y4 55 = (40+50+60+70)/4                                                                                                        \n",
    "y5 65 = (50+60+70+80)/4                                                                                                        \n",
    "y6 75 = (60+70+80+90)/4                                                                                                         \n",
    "y7 85 = (70+80+90+100)/4                                                                                                       \n",
    "Thus, the moving average sequence has n-k+1=10-4+1=7 values."
   ]
  },
  {
   "cell_type": "code",
   "execution_count": 5,
   "metadata": {},
   "outputs": [],
   "source": [
    "def moving_array(inp):\n",
    "    k=l=int(input('Enter the Value of window size ->'))\n",
    "    l=k     # creating a new varible to store the value of K\n",
    "    n=len(inp)\n",
    "    seq = n-k+1    # Number of Sequence\n",
    "    y=[]           # empty list to store the output \n",
    "    if l > 0:\n",
    "        for i in range(seq): # iterating over seq range\n",
    "            k = l + i\n",
    "            s = 0\n",
    "            while(k>0):  # will iterate until the value of k becomes zero\n",
    "                for val in range(k-1,i-1,-1):    # (4,-1,-1),(3,-1,-1),(2,-1,-1),(1,-1,-1) ---> fot ith 1st iteration\n",
    "                    s=s+inp[val]/l               # (5,0,-1),(4,0,-1),(3,0,-1),(2,0,-1)     ---> for ith 2nd iteration\n",
    "                    k = k-i-1\n",
    "            y.insert(i,round(s,2))\n",
    "        return y\n",
    "    else:\n",
    "        raise ValueError('Window size less than Zero')"
   ]
  },
  {
   "cell_type": "code",
   "execution_count": 6,
   "metadata": {
    "scrolled": false
   },
   "outputs": [
    {
     "name": "stdout",
     "output_type": "stream",
     "text": [
      "Enter the Value of window size ->4\n"
     ]
    },
    {
     "data": {
      "text/plain": [
       "[25.0, 35.0, 45.0, 55.0, 65.0, 75.0, 85.0]"
      ]
     },
     "execution_count": 6,
     "metadata": {},
     "output_type": "execute_result"
    }
   ],
   "source": [
    "inp=[10,20,30,40,50,60,70,80,90,100]\n",
    "moving_array(inp)"
   ]
  },
  {
   "cell_type": "code",
   "execution_count": 7,
   "metadata": {},
   "outputs": [
    {
     "name": "stdout",
     "output_type": "stream",
     "text": [
      "Enter the Value of window size ->3\n"
     ]
    },
    {
     "data": {
      "text/plain": [
       "[5.0, 4.67, 5.67, 6.67, 9.67, 28.67, 49.33, 72.67, 84.0, 93.33, 116.33]"
      ]
     },
     "execution_count": 7,
     "metadata": {},
     "output_type": "execute_result"
    }
   ],
   "source": [
    "test = [3, 5, 7, 2, 8, 10, 11, 65, 72, 81, 99, 100, 150]\n",
    "moving_array(test)"
   ]
  },
  {
   "cell_type": "code",
   "execution_count": null,
   "metadata": {},
   "outputs": [],
   "source": []
  }
 ],
 "metadata": {
  "kernelspec": {
   "display_name": "Python 3",
   "language": "python",
   "name": "python3"
  },
  "language_info": {
   "codemirror_mode": {
    "name": "ipython",
    "version": 3
   },
   "file_extension": ".py",
   "mimetype": "text/x-python",
   "name": "python",
   "nbconvert_exporter": "python",
   "pygments_lexer": "ipython3",
   "version": "3.7.4"
  }
 },
 "nbformat": 4,
 "nbformat_minor": 2
}
